{
 "cells": [
  {
   "cell_type": "code",
   "execution_count": 1,
   "id": "dabd917e",
   "metadata": {},
   "outputs": [
    {
     "name": "stdout",
     "output_type": "stream",
     "text": [
      "val\tfreq\trel_freq\n",
      "2.64\t1\t0.1\n",
      "2.78\t1\t0.1\n",
      "3.63\t1\t0.1\n",
      "4.45\t1\t0.1\n",
      "5.05\t1\t0.1\n",
      "5.17\t1\t0.1\n",
      "6.39\t1\t0.1\n",
      "7.02\t1\t0.1\n",
      "8.0\t1\t0.1\n",
      "8.25\t1\t0.1\n"
     ]
    }
   ],
   "source": [
    "import math\n",
    "\n",
    "import numpy as np\n",
    "from matplotlib import pyplot as plt\n",
    "from scipy.interpolate import make_interp_spline\n",
    "from scipy.stats import exponweib\n",
    "\n",
    "data = [2.64, 8.00, 6.39, 4.45, 7.02, 8.25, 2.78, 3.63, 5.05, 5.17\n",
    "]\n",
    "\n",
    "variation_range = {}\n",
    "for i in data:\n",
    "    if i in variation_range:\n",
    "        variation_range[i] += 1\n",
    "    else:\n",
    "        variation_range[i] = 1\n",
    "sorted_variation_range = sorted(variation_range)\n",
    "print(\"val\\tfreq\\trel_freq\")\n",
    "for i in sorted_variation_range:\n",
    "    print(f'{i}\\t{variation_range[i]}\\t{round(variation_range[i] / len(data), 3)}')"
   ]
  },
  {
   "cell_type": "code",
   "execution_count": 2,
   "id": "0fcf7526",
   "metadata": {},
   "outputs": [
    {
     "name": "stdout",
     "output_type": "stream",
     "text": [
      "10\n",
      "4\n",
      "1.4024999999999999\n",
      "\n",
      "border\t\tfreq\trel_freq\n",
      "[2.6; 4.0)\t3\t0.3\n",
      "[4.0; 5.4)\t3\t0.3\n",
      "[5.4; 6.8)\t1\t0.1\n",
      "[6.8; 8.2)\t3\t0.3\n"
     ]
    }
   ],
   "source": [
    "M = round(1 + math.log2(len(data)))\n",
    "min_val = min(data)\n",
    "max_val = max(data)\n",
    "def get_classes(count: int):\n",
    "    h = (max_val - min_val) / count\n",
    "    print(len(data))\n",
    "    print(M)\n",
    "    print(h)\n",
    "    print()\n",
    "    class_borders = {(min_val + h * i, min_val + h * (i + 1)): None for i in range(count)}\n",
    "    for border in class_borders:\n",
    "        class_borders[border] = len([\n",
    "            *(i for i in data if i < border[1] and i >= border[0]),\n",
    "            *([border[1], ] if border[1] == max_val else range(0))\n",
    "        ])\n",
    "    print(\"border\\t\\tfreq\\trel_freq\")\n",
    "    plot_values = []\n",
    "    sorted_borders = sorted(class_borders, key=lambda x: x[0])\n",
    "    for border in sorted_borders:\n",
    "        plot_values.append((class_borders[border], class_borders[border] / len(data)))\n",
    "        print(\n",
    "            f\"[{round(border[0], 1)}; {round(border[1], 1)})\\t\"\n",
    "            f\"{plot_values[-1][0]}\\t{round(plot_values[-1][1], 2)}\"\n",
    "        )\n",
    "    return sorted_borders, plot_values, h\n",
    "sorted_borders, plot_values, class_width = get_classes(M)"
   ]
  },
  {
   "cell_type": "code",
   "execution_count": 3,
   "id": "1379ded2",
   "metadata": {},
   "outputs": [
    {
     "name": "stdout",
     "output_type": "stream",
     "text": [
      "10\n",
      "4\n",
      "0.7012499999999999\n",
      "\n",
      "border\t\tfreq\trel_freq\n",
      "[2.6; 3.3)\t2\t0.2\n",
      "[3.3; 4.0)\t1\t0.1\n",
      "[4.0; 4.7)\t1\t0.1\n",
      "[4.7; 5.4)\t2\t0.2\n",
      "[5.4; 6.1)\t0\t0.0\n",
      "[6.1; 6.8)\t1\t0.1\n",
      "[6.8; 7.5)\t1\t0.1\n",
      "[7.5; 8.2)\t2\t0.2\n",
      "2.031457057822729\n",
      "5.338\n"
     ]
    }
   ],
   "source": [
    "def avg(data: list):\n",
    "    return sum(data) / len(data)\n",
    "mean = avg(data)\n",
    "dispersion = sum((i - mean) ** 2 for i in variation_range) / (len(variation_range) - 1)\n",
    "standard_deviation = dispersion ** 0.5\n",
    "displaced_dispersion = sum((i - mean) ** 2 for i in data) / len(data)\n",
    "displaced_standard_deviation = displaced_dispersion ** 0.5\n",
    "sorted_borders, plot_values, class_width = get_classes(M * 2)\n",
    "N = len(data)\n",
    "sorted_data = sorted(data)\n",
    "def get_median(sorted_data):\n",
    "    return avg(sorted_data[\n",
    "            (len(sorted_data) // 2) - (not bool(len(sorted_data) % 2)) : \\\n",
    "            (len(sorted_data) // 2) + 1\n",
    "    ])\n",
    "median = get_median(sorted_data)\n",
    "print(standard_deviation)\n",
    "print(mean)"
   ]
  },
  {
   "cell_type": "code",
   "execution_count": 4,
   "id": "dfd5632b",
   "metadata": {},
   "outputs": [
    {
     "name": "stdout",
     "output_type": "stream",
     "text": [
      "1.3563441666674514\n"
     ]
    }
   ],
   "source": [
    "print(mean - 1.96 * standard_deviation)"
   ]
  },
  {
   "cell_type": "code",
   "execution_count": 5,
   "id": "eb279a90",
   "metadata": {},
   "outputs": [
    {
     "name": "stdout",
     "output_type": "stream",
     "text": [
      "9.319655833332549\n"
     ]
    }
   ],
   "source": [
    "print(mean + 1.96 * standard_deviation)\n"
   ]
  },
  {
   "cell_type": "code",
   "execution_count": null,
   "id": "fd3a1ab0",
   "metadata": {},
   "outputs": [],
   "source": []
  }
 ],
 "metadata": {
  "kernelspec": {
   "display_name": "Python 3",
   "language": "python",
   "name": "python3"
  },
  "language_info": {
   "codemirror_mode": {
    "name": "ipython",
    "version": 3
   },
   "file_extension": ".py",
   "mimetype": "text/x-python",
   "name": "python",
   "nbconvert_exporter": "python",
   "pygments_lexer": "ipython3",
   "version": "3.9.9"
  }
 },
 "nbformat": 4,
 "nbformat_minor": 5
}
