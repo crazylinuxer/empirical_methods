{
 "cells": [
  {
   "cell_type": "code",
   "execution_count": 1,
   "id": "dabd917e",
   "metadata": {},
   "outputs": [
    {
     "name": "stdout",
     "output_type": "stream",
     "text": [
      "val\tfreq\trel_freq\n",
      "50\t1\t0.042\n",
      "67\t1\t0.042\n",
      "68\t1\t0.042\n",
      "72\t1\t0.042\n",
      "79\t1\t0.042\n",
      "80\t1\t0.042\n",
      "87\t1\t0.042\n",
      "90\t1\t0.042\n",
      "98\t1\t0.042\n",
      "107\t1\t0.042\n",
      "108\t2\t0.083\n",
      "109\t1\t0.042\n",
      "117\t1\t0.042\n",
      "120\t1\t0.042\n",
      "122\t1\t0.042\n",
      "123\t1\t0.042\n",
      "124\t1\t0.042\n",
      "127\t1\t0.042\n",
      "128\t1\t0.042\n",
      "138\t1\t0.042\n",
      "148\t2\t0.083\n",
      "151\t1\t0.042\n"
     ]
    }
   ],
   "source": [
    "import math\n",
    "\n",
    "import numpy as np\n",
    "from matplotlib import pyplot as plt\n",
    "from scipy.interpolate import make_interp_spline\n",
    "from scipy.stats import exponweib\n",
    "\n",
    "data = [\n",
    "    148,\n",
    "    138,\n",
    "    127,\n",
    "    117,\n",
    "    107,\n",
    "    87,\n",
    "    79,\n",
    "    72,\n",
    "    67,\n",
    "    50,\n",
    "    68,\n",
    "    123,\n",
    "    90,\n",
    "    109,\n",
    "    122,\n",
    "    124,\n",
    "    108,\n",
    "    98,\n",
    "    108,\n",
    "    128,\n",
    "    148,\n",
    "    151,\n",
    "    120,\n",
    "    80\n",
    "]\n",
    "\n",
    "variation_range = {}\n",
    "for i in data:\n",
    "    if i in variation_range:\n",
    "        variation_range[i] += 1\n",
    "    else:\n",
    "        variation_range[i] = 1\n",
    "sorted_variation_range = sorted(variation_range)\n",
    "print(\"val\\tfreq\\trel_freq\")\n",
    "for i in sorted_variation_range:\n",
    "    print(f'{i}\\t{variation_range[i]}\\t{round(variation_range[i] / len(data), 3)}')"
   ]
  },
  {
   "cell_type": "code",
   "execution_count": 2,
   "id": "0fcf7526",
   "metadata": {},
   "outputs": [
    {
     "name": "stdout",
     "output_type": "stream",
     "text": [
      "24\n",
      "6\n",
      "16.833333333333332\n",
      "\n",
      "border\t\tfreq\trel_freq\n",
      "[50.0; 66.8)\t1\t0.04\n",
      "[66.8; 83.7)\t5\t0.21\n",
      "[83.7; 100.5)\t3\t0.12\n",
      "[100.5; 117.3)\t5\t0.21\n",
      "[117.3; 134.2)\t6\t0.25\n",
      "[134.2; 151.0)\t4\t0.17\n"
     ]
    }
   ],
   "source": [
    "M = round(1 + math.log2(len(data)))\n",
    "min_val = min(data)\n",
    "max_val = max(data)\n",
    "def get_classes(count: int):\n",
    "    h = (max_val - min_val) / count\n",
    "    print(len(data))\n",
    "    print(M)\n",
    "    print(h)\n",
    "    print()\n",
    "    class_borders = {(min_val + h * i, min_val + h * (i + 1)): None for i in range(count)}\n",
    "    for border in class_borders:\n",
    "        class_borders[border] = len([\n",
    "            *(i for i in data if i < border[1] and i >= border[0]),\n",
    "            *([border[1], ] if border[1] == max_val else range(0))\n",
    "        ])\n",
    "    print(\"border\\t\\tfreq\\trel_freq\")\n",
    "    plot_values = []\n",
    "    sorted_borders = sorted(class_borders, key=lambda x: x[0])\n",
    "    for border in sorted_borders:\n",
    "        plot_values.append((class_borders[border], class_borders[border] / len(data)))\n",
    "        print(\n",
    "            f\"[{round(border[0], 1)}; {round(border[1], 1)})\\t\"\n",
    "            f\"{plot_values[-1][0]}\\t{round(plot_values[-1][1], 2)}\"\n",
    "        )\n",
    "    return sorted_borders, plot_values, h\n",
    "sorted_borders, plot_values, class_width = get_classes(M)"
   ]
  },
  {
   "cell_type": "code",
   "execution_count": 3,
   "id": "1379ded2",
   "metadata": {},
   "outputs": [
    {
     "name": "stdout",
     "output_type": "stream",
     "text": [
      "24\n",
      "6\n",
      "8.416666666666666\n",
      "\n",
      "border\t\tfreq\trel_freq\n",
      "[50.0; 58.4)\t1\t0.04\n",
      "[58.4; 66.8)\t0\t0.0\n",
      "[66.8; 75.2)\t3\t0.12\n",
      "[75.2; 83.7)\t2\t0.08\n",
      "[83.7; 92.1)\t2\t0.08\n",
      "[92.1; 100.5)\t1\t0.04\n",
      "[100.5; 108.9)\t3\t0.12\n",
      "[108.9; 117.3)\t2\t0.08\n",
      "[117.3; 125.8)\t4\t0.17\n",
      "[125.8; 134.2)\t2\t0.08\n",
      "[134.2; 142.6)\t1\t0.04\n",
      "[142.6; 151.0)\t3\t0.12\n",
      "27.89816076981822\n",
      "107.04166666666667\n"
     ]
    }
   ],
   "source": [
    "def avg(data: list):\n",
    "    return sum(data) / len(data)\n",
    "mean = avg(data)\n",
    "dispersion = sum((i - mean) ** 2 for i in variation_range) / (len(variation_range) - 1)\n",
    "standard_deviation = dispersion ** 0.5\n",
    "displaced_dispersion = sum((i - mean) ** 2 for i in data) / len(data)\n",
    "displaced_standard_deviation = displaced_dispersion ** 0.5\n",
    "sorted_borders, plot_values, class_width = get_classes(M * 2)\n",
    "N = len(data)\n",
    "sorted_data = sorted(data)\n",
    "def get_median(sorted_data):\n",
    "    return avg(sorted_data[\n",
    "            (len(sorted_data) // 2) - (not bool(len(sorted_data) % 2)) : \\\n",
    "            (len(sorted_data) // 2) + 1\n",
    "    ])\n",
    "median = get_median(sorted_data)\n",
    "print(standard_deviation)\n",
    "print(mean)"
   ]
  },
  {
   "cell_type": "code",
   "execution_count": 4,
   "id": "dfd5632b",
   "metadata": {},
   "outputs": [
    {
     "name": "stdout",
     "output_type": "stream",
     "text": [
      "52.36127155782297\n"
     ]
    }
   ],
   "source": [
    "print(mean - 1.96 * standard_deviation)"
   ]
  },
  {
   "cell_type": "code",
   "execution_count": 6,
   "id": "eb279a90",
   "metadata": {},
   "outputs": [
    {
     "name": "stdout",
     "output_type": "stream",
     "text": [
      "161.72206177551038\n"
     ]
    }
   ],
   "source": [
    "print(mean + 1.96 * standard_deviation)\n"
   ]
  },
  {
   "cell_type": "code",
   "execution_count": null,
   "id": "fd3a1ab0",
   "metadata": {},
   "outputs": [],
   "source": []
  }
 ],
 "metadata": {
  "kernelspec": {
   "display_name": "Python 3",
   "language": "python",
   "name": "python3"
  },
  "language_info": {
   "codemirror_mode": {
    "name": "ipython",
    "version": 3
   },
   "file_extension": ".py",
   "mimetype": "text/x-python",
   "name": "python",
   "nbconvert_exporter": "python",
   "pygments_lexer": "ipython3",
   "version": "3.9.7"
  }
 },
 "nbformat": 4,
 "nbformat_minor": 5
}
