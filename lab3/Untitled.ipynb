{
 "cells": [
  {
   "cell_type": "code",
   "execution_count": 1,
   "id": "6b382c3f",
   "metadata": {},
   "outputs": [
    {
     "name": "stdout",
     "output_type": "stream",
     "text": [
      "Mean = 2.75\n",
      "Stabdard deviation = 9.80839158346288\n",
      "t statistic = 0.9712376754706958\n",
      "Selections are the same (H0 == True)\n"
     ]
    }
   ],
   "source": [
    "import math\n",
    "\n",
    "import numpy as np\n",
    "from matplotlib import pyplot as plt\n",
    "from scipy.interpolate import make_interp_spline\n",
    "\n",
    "# part 1\n",
    "data1 = [45, 48, 55, 65, 34, 55, 55, 38, 65, 62, 55, 48]\n",
    "data2 = [38, 34, 62, 65, 45, 48, 38, 45, 62, 45, 62, 48]\n",
    "z = [x - y for x, y in zip(data1, data2)]\n",
    "z_ = sum(z) / len(z)\n",
    "dispersion = sum((i - z_) ** 2 for i in z) / (len(z) - 1)\n",
    "standard_deviation = dispersion ** 0.5\n",
    "t = (z_ * (len(z) ** 0.5)) / standard_deviation\n",
    "t_quantile = 2.2\n",
    "\n",
    "print(\"Mean =\", z_)\n",
    "print(\"Stabdard deviation =\", standard_deviation)\n",
    "print(\"t statistic =\", t)\n",
    "f = v1 = v2 = None\n",
    "if abs(t) < t_quantile:\n",
    "    print(\"Selections are the same (H0 == True)\")\n",
    "else:\n",
    "    print(\"Selections are not the same (H1 == True)\")\n",
    "    d1_mean = sum(data1) / len(data1)\n",
    "    d2_mean = sum(data2) / len(data2)\n",
    "    d1_disp = sum((i - d1_mean) ** 2 for i in data1) / (len(data1) - 1)\n",
    "    d2_disp = sum((i - d2_mean) ** 2 for i in data2) / (len(data2) - 1)\n",
    "    f = max(d1_disp, d2_disp) / min(d1_disp, d2_disp)\n",
    "    v1 = (len(data1) - 1) if d1_disp > d2_disp else (len(data2) - 1)\n",
    "    v2 = (len(data2) - 1) if d1_disp > d2_disp else (len(data1) - 1)\n",
    "    print(\"f =\", f)\n",
    "    print(\"v1 =\", v1)\n",
    "    print(\"v2 =\", v2)\n"
   ]
  },
  {
   "cell_type": "code",
   "execution_count": 2,
   "id": "100199ec",
   "metadata": {},
   "outputs": [
    {
     "name": "stdout",
     "output_type": "stream",
     "text": [
      "f = 1.1774804459954866\n",
      "v1 = 11\n",
      "v2 = 11\n"
     ]
    }
   ],
   "source": [
    "# part 2\n",
    "\n",
    "independent_data1 = [\n",
    "    28.3, 115.81, 47.43, 80.84, 60.5, 77.13, 71.44, 111.75, 94.5, 52.9, 63.34,\n",
    "    79.34, 72.67, 82.96, 54.61, 59.66, 66.99, 89.85, 30.03, 57.11, 97.65, 73.72,\n",
    "    23.96, 58.31, 53.21, 81.37, 90.07, 99.36, 104.38, 78.89, 73.51, 46.04\n",
    "]\n",
    "independent_data2 = [\n",
    "    60.61, 73.5, 58.76, 56.2, 14.66, 18.69, 92.96, 38.86, 50.43,84.24, 27.56,\n",
    "    56.7, 35.28, 76.7, 73.12, 92.16, 99.14, 91.15, 65.82, 89.64, 29.3, 60.54,\n",
    "    58.68, 40.68, 24.68, 66.49, 77.73, 80.52, 35.66, 24.57, 26.27, 74.99, 37.85,\n",
    "    65.51, 134.55, 29.17, 70.87, 68.02, 42.6, 92.8, 70.81, 81.91, 44.89, 39.39,\n",
    "    52.34, 47.14, 100.47, 45.72, 34.76, 76.81, 52.03, 62.17, 83.32\n",
    "]\n",
    "N1 = len(independent_data1)\n",
    "N2 = len(independent_data2)\n",
    "x_ = sum(independent_data1) / N1\n",
    "y_ = sum(independent_data2) / N2\n",
    "id1_disp = sum((i - x_) ** 2 for i in independent_data1) / (N1 - 1)\n",
    "id2_disp = sum((i - y_) ** 2 for i in independent_data2) / (N2 - 1)\n",
    "f = max(id1_disp, id2_disp) / min(id1_disp, id2_disp)\n",
    "v1 = (len(data1) - 1) if id1_disp > id2_disp else (len(data2) - 1)\n",
    "v2 = (len(data2) - 1) if id1_disp > id2_disp else (len(data1) - 1)\n",
    "print(\"f =\", f)\n",
    "print(\"v1 =\", v1)\n",
    "print(\"v2 =\", v2)\n"
   ]
  },
  {
   "cell_type": "code",
   "execution_count": 3,
   "id": "5a5ff2d3",
   "metadata": {},
   "outputs": [
    {
     "name": "stdout",
     "output_type": "stream",
     "text": [
      "Dispersions don't differ much\n",
      "|t| = 2.015545435680876\n",
      "v = 83\n",
      "Means are different\n"
     ]
    }
   ],
   "source": [
    "f_quantile = 2.82\n",
    "if abs(f) <= f_quantile:\n",
    "    print(\"Dispersions don't differ much\")\n",
    "    weighted_dispersion = (((N1 - 1) * id1_disp) + ((N2 - 1) * id2_disp)) / (N1 + N2 - 2)\n",
    "    t = (x_ - y_) / (((weighted_dispersion / N1) + (weighted_dispersion / N2)) ** 0.5)\n",
    "    v = N1 + N2 - 2\n",
    "    print(\"|t| =\", abs(t))\n",
    "    print(\"v =\", v)\n",
    "    t_quantile = 1.99\n",
    "    if abs(t) > t_quantile:\n",
    "        print(\"Means are different\")\n",
    "    else:\n",
    "        print(\"Means don't differ much\")\n",
    "else:\n",
    "    print(\"Dispersions are different\")\n",
    "    t1 = (x_ - y_) / (((id1_disp / N1) + (id2_disp / N2)) ** 0.5)\n",
    "    v = (((id1_disp / N1) + (id2_disp / N2)) ** 2) *\\\n",
    "        ((((1 / (N1 - 1)) * ((id1_disp / N1) ** 2)) +\n",
    "          ((1 / (N2 - 1)) * ((id2_disp / N1) ** 2))) ** -1)\n",
    "    print(\"|t1| =\", abs(t1))\n",
    "    print(\"v =\", v)\n",
    "    t_quantile = 2.01\n",
    "    if abs(t1) > t_quantile:\n",
    "        print(\"Means are different\")\n",
    "    else:\n",
    "        print(\"Means don't differ much\")"
   ]
  },
  {
   "cell_type": "code",
   "execution_count": 4,
   "id": "64bbae2d",
   "metadata": {},
   "outputs": [
    {
     "name": "stdout",
     "output_type": "stream",
     "text": [
      "[0, 1, 0, 1, 1, 1, 0, 1, 1, 0, 1, 1, 1, 1, 0, 0, 0, 0, 0, 0, 1, 1, 0, 1, 1, 1, 1, 1, 1, 1, 1, 0]\n",
      "[5.0, 24.0, 11.0, 20.0, 26.0, 29.0, 9.0, 32.0, 25.0, 7.0, 22.0, 19.0, 23.0, 13.0, 10.0, 4.0, 6.0, 12.0, 1.0, 3.0, 30.0, 15.0, 2.0, 17.0, 21.0, 16.0, 14.0, 18.0, 31.0, 28.0, 27.0, 8.0]\n"
     ]
    }
   ],
   "source": [
    "# part 3\n",
    "\n",
    "z = [round(x - y, 5) for x, y in zip(independent_data1, independent_data2) if x != y]\n",
    "a = [int(i > 0) for i in z]\n",
    "def get_ranks(items: list):\n",
    "    sorted_items = sorted(items)\n",
    "    ranks = []\n",
    "    current_indexes_sum = 0\n",
    "    current_rank_size = 0\n",
    "    current_value = None\n",
    "    for i in range(len(sorted_items)):\n",
    "        if not current_value:\n",
    "            current_value = sorted_items[i]\n",
    "        if current_value == sorted_items[i]:\n",
    "            current_rank_size += 1\n",
    "            current_indexes_sum += (i + 1)\n",
    "        else:\n",
    "            ranks.extend(\n",
    "                current_indexes_sum / current_rank_size for _ in range(current_rank_size)\n",
    "            )\n",
    "            current_value = sorted_items[i]\n",
    "            current_indexes_sum = i + 1\n",
    "            current_rank_size = 1\n",
    "        if i == len(sorted_items) - 1:\n",
    "            ranks.extend(\n",
    "                current_indexes_sum / current_rank_size for _ in range(current_rank_size)\n",
    "            )\n",
    "    rank_map = {i: j for i, j in zip(sorted_items, ranks)}\n",
    "    return [rank_map[i] for i in items]\n",
    "ranks = get_ranks(z)\n",
    "print(a)\n",
    "print(ranks)"
   ]
  },
  {
   "cell_type": "code",
   "execution_count": 5,
   "id": "aa7a11b8",
   "metadata": {},
   "outputs": [
    {
     "name": "stdout",
     "output_type": "stream",
     "text": [
      "T = 450.0\n",
      "E{T} = 264.0\n",
      "D{T} = 2860.0\n",
      "u = 3.4780028028314605\n",
      "Biased\n"
     ]
    }
   ],
   "source": [
    "assert len(a) == len(ranks)\n",
    "N_new = len(a)\n",
    "T = sum(a[i] * ranks[i] for i in range(len(ranks)))\n",
    "ET = (N_new * (N_new + 1)) / 4\n",
    "DT = ((N_new + 1) * ((2 * N_new) + 1) * N_new) / 24\n",
    "u = (T - ET) / (DT ** 0.5)\n",
    "u_quantile = 1.96\n",
    "\n",
    "print(\"T =\", T)\n",
    "print(\"E{T} =\", ET)\n",
    "print(\"D{T} =\", DT)\n",
    "print(\"u =\", u)\n",
    "print(\"Unbiased\" if abs(u) <= u_quantile else \"Biased\")"
   ]
  },
  {
   "cell_type": "code",
   "execution_count": 6,
   "id": "4240a5e1",
   "metadata": {},
   "outputs": [
    {
     "name": "stdout",
     "output_type": "stream",
     "text": [
      "W = 528.0\n",
      "E{W} = 1376.0\n",
      "D{W} = 12154.666666666666\n",
      "u = -7.691735220200603\n",
      "Biased\n"
     ]
    }
   ],
   "source": [
    "# part 4\n",
    "\n",
    "merged_data = independent_data1 + independent_data2\n",
    "merged_data_ranks = get_ranks(merged_data)\n",
    "independent_data1_ranks = get_ranks(independent_data1)\n",
    "independent_data2_ranks = get_ranks(independent_data2)\n",
    "W = sum(independent_data1_ranks)\n",
    "EW = (N1 * (N1 + N2 + 1)) / 2\n",
    "DW = (N1 * N2 * (N1 + N2 + 1)) / 12\n",
    "u = (W - EW) / (DW ** 0.5)\n",
    "print(\"W =\", W)\n",
    "print(\"E{W} =\", EW)\n",
    "print(\"D{W} =\", DW)\n",
    "print(\"u =\", u)\n",
    "print(\"Unbiased\" if abs(u) <= u_quantile else \"Biased\")\n"
   ]
  }
 ],
 "metadata": {
  "kernelspec": {
   "display_name": "Python 3",
   "language": "python",
   "name": "python3"
  },
  "language_info": {
   "codemirror_mode": {
    "name": "ipython",
    "version": 3
   },
   "file_extension": ".py",
   "mimetype": "text/x-python",
   "name": "python",
   "nbconvert_exporter": "python",
   "pygments_lexer": "ipython3",
   "version": "3.9.9"
  }
 },
 "nbformat": 4,
 "nbformat_minor": 5
}
