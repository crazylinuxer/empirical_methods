{
 "cells": [
  {
   "cell_type": "code",
   "execution_count": 3,
   "id": "6b382c3f",
   "metadata": {},
   "outputs": [
    {
     "name": "stdout",
     "output_type": "stream",
     "text": [
      "Mean = 2.75\n",
      "Stabdard deviation = 9.80839158346288\n",
      "t statistic = 0.9712376754706958\n",
      "Selections are the same (H0 == True)\n"
     ]
    }
   ],
   "source": [
    "import math\n",
    "\n",
    "import numpy as np\n",
    "from matplotlib import pyplot as plt\n",
    "from scipy.interpolate import make_interp_spline\n",
    "\n",
    "# part 1\n",
    "data1 = [45, 48, 55, 65, 34, 55, 55, 38, 65, 62, 55, 48]\n",
    "data2 = [38, 34, 62, 65, 45, 48, 38, 45, 62, 45, 62, 48]\n",
    "z = [x - y for x, y in zip(data1, data2)]\n",
    "z_ = sum(z) / len(z)\n",
    "dispersion = sum((i - z_) ** 2 for i in z) / (len(z) - 1)\n",
    "standard_deviation = dispersion ** 0.5\n",
    "t = (z_ * (len(z) ** 0.5)) / standard_deviation\n",
    "t_quantile = 2.2\n",
    "\n",
    "print(\"Mean =\", z_)\n",
    "print(\"Stabdard deviation =\", standard_deviation)\n",
    "print(\"t statistic =\", t)\n",
    "f = v1 = v2 = None\n",
    "if abs(t) < t_quantile:\n",
    "    print(\"Selections are the same (H0 == True)\")\n",
    "else:\n",
    "    print(\"Selections are not the same (H1 == True)\")\n",
    "    d1_mean = sum(data1) / len(data1)\n",
    "    d2_mean = sum(data2) / len(data2)\n",
    "    d1_disp = sum((i - d1_mean) ** 2 for i in data1) / (len(data1) - 1)\n",
    "    d2_disp = sum((i - d2_mean) ** 2 for i in data2) / (len(data2) - 1)\n",
    "    f = max(d1_disp, d2_disp) / min(d1_disp, d2_disp)\n",
    "    v1 = (len(data1) - 1) if d1_disp > d2_disp else (len(data2) - 1)\n",
    "    v2 = (len(data2) - 1) if d1_disp > d2_disp else (len(data1) - 1)\n",
    "    print(\"f =\", f)\n",
    "    print(\"v1 =\", v1)\n",
    "    print(\"v2 =\", v2)\n"
   ]
  },
  {
   "cell_type": "code",
   "execution_count": 7,
   "id": "100199ec",
   "metadata": {},
   "outputs": [
    {
     "name": "stdout",
     "output_type": "stream",
     "text": [
      "|t| = 2.015545435680876\n",
      "v = 83\n",
      "Means differ much\n",
      "t1 = 2.0570387002731647\n",
      "v = 49.68175685146864\n"
     ]
    }
   ],
   "source": [
    "# part 2\n",
    "\n",
    "independent_data1 = [\n",
    "    28.3, 115.81, 47.43, 80.84, 60.5, 77.13, 71.44, 111.75, 94.5, 52.9, 63.34,\n",
    "    79.34, 72.67, 82.96, 54.61, 59.66, 66.99, 89.85, 30.03, 57.11, 97.65, 73.72,\n",
    "    23.96, 58.31, 53.21, 81.37, 90.07, 99.36, 104.38, 78.89, 73.51, 46.04\n",
    "]\n",
    "independent_data2 = [\n",
    "    60.61, 73.5, 58.76, 56.2, 14.66, 18.69, 92.96, 38.86, 50.43,84.24, 27.56,\n",
    "    56.7, 35.28, 76.7, 73.12, 92.16, 99.14, 91.15, 65.82, 89.64, 29.3, 60.54,\n",
    "    58.68, 40.68, 24.68, 66.49, 77.73, 80.52, 35.66, 24.57, 26.27, 74.99, 37.85,\n",
    "    65.51, 134.55, 29.17, 70.87, 68.02, 42.6, 92.8, 70.81, 81.91, 44.89, 39.39,\n",
    "    52.34, 47.14, 100.47, 45.72, 34.76, 76.81, 52.03, 62.17, 83.32\n",
    "]\n",
    "N1 = len(independent_data1)\n",
    "N2 = len(independent_data2)\n",
    "x_ = sum(independent_data1) / N1\n",
    "y_ = sum(independent_data2) / N2\n",
    "id1_disp = sum((i - x_) ** 2 for i in independent_data1) / (N1 - 1)\n",
    "id2_disp = sum((i - y_) ** 2 for i in independent_data2) / (N2 - 1)\n",
    "weighted_dispersion = (((N1 - 1) * id1_disp) + ((N2 - 1) * id2_disp)) / (N1 + N2 - 2)\n",
    "t = (x_ - y_) / (((weighted_dispersion / N1) + (weighted_dispersion / N2)) ** 0.5)\n",
    "v = N1 + N2 - 2\n",
    "\n",
    "print(\"|t| =\", abs(t))\n",
    "print(\"v =\", v)\n",
    "\n",
    "t_quantile = 1.99\n",
    "if abs(t) > t_quantile:\n",
    "    print(\"Means differ much\")\n",
    "else:\n",
    "    print(\"Means don't differ much\")\n",
    "\n",
    "t1 = (x_ - y_) / (((id1_disp / N1) + (id2_disp / N2)) ** 0.5)\n",
    "v = (((id1_disp / N1) + (id2_disp / N2)) ** 2) *\\\n",
    "    ((((1 / (N1 - 1)) * ((id1_disp / N1) ** 2)) +\n",
    "      ((1 / (N2 - 1)) * ((id2_disp / N1) ** 2))) ** -1)\n",
    "print(\"t1 =\", t1)\n",
    "print(\"v =\", v)"
   ]
  },
  {
   "cell_type": "code",
   "execution_count": 14,
   "id": "64bbae2d",
   "metadata": {},
   "outputs": [
    {
     "name": "stdout",
     "output_type": "stream",
     "text": [
      "{-35.79: 1.0, -34.72: 2.0, -32.53: 3.0, -32.5: 4.0, -32.31: 5.0, -32.15: 6.0, -31.34: 7.0, -28.95: 8.0, -21.52: 9.0, -18.51: 10.0, -11.33: 11.0, -1.3: 12.0, 6.26: 13.0, 12.34: 14.0, 13.18: 15.0, 14.88: 16.0, 17.63: 17.0, 18.84: 18.0, 22.64: 19.0, 24.64: 20.0, 28.53: 21.0, 35.78: 22.0, 37.39: 23.0, 42.31: 24.0, 44.07: 25.0, 45.84: 26.0, 47.24: 27.0, 54.32: 28.0, 58.44: 29.0, 68.35: 30.0, 68.72: 31.0, 72.89: 32.0}\n"
     ]
    }
   ],
   "source": [
    "# part 3\n",
    "\n",
    "z = [round(x - y, 5) for x, y in zip(independent_data1, independent_data2) if x != y]\n",
    "a = {i: int(i > 0) for i in z}\n",
    "sorted_z = sorted(z)\n",
    "ranks = []\n",
    "current_indexes_sum = 0\n",
    "current_rank_size = 0\n",
    "current_value = None\n",
    "for i in range(len(sorted_z)):\n",
    "    if not current_value:\n",
    "        current_value = sorted_z[i]\n",
    "    if current_value == sorted_z[i]:\n",
    "        current_rank_size += 1\n",
    "        current_indexes_sum += (i + 1)\n",
    "    else:\n",
    "        ranks.extend(current_indexes_sum / current_rank_size for _ in range(current_rank_size))\n",
    "        current_value = sorted_z[i]\n",
    "        current_indexes_sum = i + 1\n",
    "        current_rank_size = 1\n",
    "    if i == len(sorted_z) - 1:\n",
    "        ranks.extend(current_indexes_sum / current_rank_size for _ in range(current_rank_size))\n",
    "ranks = {i: j for i, j in zip(sorted_z, ranks)}\n",
    "print(ranks)"
   ]
  },
  {
   "cell_type": "code",
   "execution_count": 15,
   "id": "aa7a11b8",
   "metadata": {},
   "outputs": [
    {
     "name": "stdout",
     "output_type": "stream",
     "text": [
      "T = 450.0\n",
      "E{T} = 264.0\n",
      "D{T} = 2860.0\n",
      "u = 3.4780028028314605\n",
      "zsuv\n"
     ]
    }
   ],
   "source": [
    "N_new = len(a)\n",
    "T = sum(a[i] * ranks[i] for i in ranks)\n",
    "ET = (N_new * (N_new + 1)) / 4\n",
    "DT = ((N_new + 1) * ((2 * N_new) + 1) * N_new) / 24\n",
    "u = (T - ET) / (DT ** 0.5)\n",
    "u_quantile = 1.96\n",
    "\n",
    "print(\"T =\", T)\n",
    "print(\"E{T} =\", ET)\n",
    "print(\"D{T} =\", DT)\n",
    "print(\"u =\", u)\n",
    "print(\"nema\" if abs(u) <= u_quantile else \"zsuv\")"
   ]
  },
  {
   "cell_type": "code",
   "execution_count": null,
   "id": "4240a5e1",
   "metadata": {},
   "outputs": [],
   "source": [
    "# part 4\n",
    "\n",
    "\n"
   ]
  }
 ],
 "metadata": {
  "kernelspec": {
   "display_name": "Python 3",
   "language": "python",
   "name": "python3"
  },
  "language_info": {
   "codemirror_mode": {
    "name": "ipython",
    "version": 3
   },
   "file_extension": ".py",
   "mimetype": "text/x-python",
   "name": "python",
   "nbconvert_exporter": "python",
   "pygments_lexer": "ipython3",
   "version": "3.9.9"
  }
 },
 "nbformat": 4,
 "nbformat_minor": 5
}
