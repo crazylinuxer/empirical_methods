{
 "cells": [
  {
   "cell_type": "code",
   "execution_count": 1,
   "id": "2041a14b",
   "metadata": {},
   "outputs": [],
   "source": [
    "# lab4\n",
    "# part 1 (8)\n",
    "\n",
    "from matplotlib import pyplot as plt\n",
    "\n",
    "data_x = [\n",
    "    8, 13, 17, 6, 14, 21, 2, 16, 18, 15,\n",
    "    9, 10, 7, 22, 3, 5, 12, 19, 4, 20, 11\n",
    "]\n",
    "data_y = [\n",
    "    1.9, 1, 1, 2.2, 1.3, 0.8, 2.2, 0.9, 0.8, 1.3, 1.5,\n",
    "    1.3, 1.9, 0.7, 3.1, 2.5, 1.1, 0.6, 2.8, 0.6, 1.2\n",
    "]\n"
   ]
  },
  {
   "cell_type": "code",
   "execution_count": 2,
   "id": "139f691d",
   "metadata": {
    "scrolled": false
   },
   "outputs": [
    {
     "data": {
      "text/plain": [
       "<matplotlib.collections.PathCollection at 0x7fc2717158a0>"
      ]
     },
     "execution_count": 2,
     "metadata": {},
     "output_type": "execute_result"
    },
    {
     "data": {
      "image/png": "[encoded data removed]",
      "text/plain": [
       "<Figure size 432x288 with 1 Axes>"
      ]
     },
     "metadata": {
      "needs_background": "light"
     },
     "output_type": "display_data"
    }
   ],
   "source": [
    "plt.scatter(data_x, data_y)"
   ]
  },
  {
   "cell_type": "code",
   "execution_count": 3,
   "id": "9ba5d20a",
   "metadata": {},
   "outputs": [
    {
     "name": "stdout",
     "output_type": "stream",
     "text": [
      "N = 21\n",
      "x mean = 12.0\n",
      "y mean = 1.461904761904762\n",
      "xy mean = 13.52857142857143\n",
      "x std = 6.2048368229954285\n",
      "y std = 0.7412666122767101\n",
      "r^ = -0.8727773675911694\n",
      "t statistic = -7.793903269096083\n",
      "t quantile = 2.09\n",
      "r^ is significant\n"
     ]
    }
   ],
   "source": [
    "# according to scatter plot, correlation is non-linear\n",
    "assert len(data_y) == len(data_x)\n",
    "N = len(data_x)\n",
    "x_mean = sum(data_x)/N\n",
    "y_mean = sum(data_y)/N\n",
    "xy_mean = sum(x * y for x, y in zip(data_x, data_y))/N\n",
    "x_dispersion = sum((i - x_mean) ** 2 for i in data_x) / (N - 1)\n",
    "x_standard_deviation = x_dispersion ** 0.5\n",
    "y_dispersion = sum((i - y_mean) ** 2 for i in data_y) / (N - 1)\n",
    "y_standard_deviation = y_dispersion ** 0.5\n",
    "r = (xy_mean - (x_mean * y_mean)) / (x_standard_deviation * y_standard_deviation)\n",
    "t = (r * ((N - 2) ** 0.5)) / ((1 - (r ** 2)) ** 0.5)\n",
    "t_quantile = 2.09\n",
    "print(\"N =\", N)\n",
    "print(\"x mean =\", x_mean)\n",
    "print(\"y mean =\", y_mean)\n",
    "print(\"xy mean =\", xy_mean)\n",
    "print(\"x std =\", x_standard_deviation)\n",
    "print(\"y std =\", y_standard_deviation)\n",
    "print(\"r^ =\", r)\n",
    "print(\"t statistic =\", t)\n",
    "print(\"t quantile =\", t_quantile)\n",
    "print(f\"r^ is {'not ' if abs(t) <= t_quantile else ''}significant\")\n"
   ]
  },
  {
   "cell_type": "code",
   "execution_count": 4,
   "id": "91c7bddf",
   "metadata": {},
   "outputs": [
    {
     "name": "stdout",
     "output_type": "stream",
     "text": [
      "r^ interval = (-0.9821504049158638, -0.7733065990586798)\n"
     ]
    }
   ],
   "source": [
    "u_quantile = 1.96\n",
    "r_interval_middle = r + (r * (1 - (r ** 2)) / (2 * N))\n",
    "r_interval_scatter = (u_quantile * ((1 - (r ** 2)) / ((N - 1) ** 0.5)))\n",
    "r_interval = (r_interval_middle - r_interval_scatter, r_interval_middle + r_interval_scatter)\n",
    "print(\"r^ interval =\", r_interval)"
   ]
  },
  {
   "cell_type": "code",
   "execution_count": 5,
   "id": "5172af40",
   "metadata": {},
   "outputs": [
    {
     "name": "stdout",
     "output_type": "stream",
     "text": [
      "x ranks: [1.0, 2.0, 3.0, 4.0, 5.0, 6.0, 7.0, 8.0, 9.0, 10.0, 11.0, 12.0, 13.0, 14.0, 15.0, 16.0, 17.0, 18.0, 19.0, 20.0, 21.0]\n",
      "y ranks: [17.5, 21.0, 20.0, 19.0, 17.5, 15.5, 15.5, 14.0, 12.0, 10.0, 9.0, 7.5, 12.0, 12.0, 6.0, 7.5, 4.5, 1.5, 1.5, 4.5, 3.0]\n",
      "tau_c = -0.9036958688057302\n",
      "t statistic for tau_c = -9.199788747824737\n",
      "tau_c is significant\n"
     ]
    }
   ],
   "source": [
    "# part 2 (9)\n",
    "\n",
    "def get_ranks(items: list):\n",
    "    sorted_items = sorted(items)\n",
    "    ranks = []\n",
    "    rank_sizes = []\n",
    "    current_indexes_sum = 0\n",
    "    current_rank_size = 0\n",
    "    current_value = None\n",
    "    for i in range(len(sorted_items)):\n",
    "        if not current_value:\n",
    "            current_value = sorted_items[i]\n",
    "        if current_value == sorted_items[i]:\n",
    "            current_rank_size += 1\n",
    "            current_indexes_sum += (i + 1)\n",
    "        else:\n",
    "            ranks.extend(\n",
    "                current_indexes_sum / current_rank_size for _ in range(current_rank_size)\n",
    "            )\n",
    "            current_value = sorted_items[i]\n",
    "            current_indexes_sum = i + 1\n",
    "            rank_sizes.append(current_rank_size)\n",
    "            current_rank_size = 1\n",
    "        if i == len(sorted_items) - 1:\n",
    "            rank_sizes.append(current_rank_size)\n",
    "            ranks.extend(\n",
    "                current_indexes_sum / current_rank_size for _ in range(current_rank_size)\n",
    "            )\n",
    "    rank_map = {i: j for i, j in zip(sorted_items, ranks)}\n",
    "    return rank_sizes, [rank_map[i] for i in items]\n",
    "\n",
    "x_rank_sizes, x_ranks = get_ranks(data_x)\n",
    "y_rank_sizes, y_ranks = get_ranks(data_y)\n",
    "pairs = sorted(((x, y) for x, y in zip(x_ranks, y_ranks)), key = lambda pair: pair[0])\n",
    "x_ranks = [i[0] for i in pairs]\n",
    "y_ranks = [i[1] for i in pairs]\n",
    "\n",
    "x_ranks_mean = sum(x_ranks) / N\n",
    "y_ranks_mean = sum(y_ranks) / N\n",
    "xy_ranks_mean = sum(x * y for x, y in zip(x_ranks, y_ranks)) / N\n",
    "x_ranks_dispersion = sum((i - x_ranks_mean) ** 2 for i in x_ranks) / (N - 1)\n",
    "x_ranks_standard_deviation = x_ranks_dispersion ** 0.5\n",
    "y_ranks_dispersion = sum((i - y_ranks_mean) ** 2 for i in y_ranks) / (N - 1)\n",
    "y_ranks_standard_deviation = y_ranks_dispersion ** 0.5\n",
    "tau_c = (xy_ranks_mean - (x_ranks_mean * y_ranks_mean)) /\\\n",
    "    (x_ranks_standard_deviation * y_ranks_standard_deviation)\n",
    "t_for_tau_c = (tau_c * ((N - 2) ** 0.5)) / ((1 - (tau_c ** 2)) ** 0.5)\n",
    "print(\"x ranks:\", x_ranks)\n",
    "print(\"y ranks:\", y_ranks)\n",
    "print(\"tau_c =\", tau_c)\n",
    "print(\"t statistic for tau_c =\", t_for_tau_c)\n",
    "print(f\"tau_c is {'not ' if abs(t_for_tau_c) <= t_quantile else ''}significant\")\n"
   ]
  },
  {
   "cell_type": "code",
   "execution_count": 6,
   "id": "54aea5dd",
   "metadata": {},
   "outputs": [
    {
     "name": "stdout",
     "output_type": "stream",
     "text": [
      "v:\n",
      "  0,  1,  1,  1,  0, -1, -1, -1, -1, -1, -1, -1, -1, -1, -1, -1, -1, -1, -1, -1, -1\n",
      " -1,  0, -1, -1, -1, -1, -1, -1, -1, -1, -1, -1, -1, -1, -1, -1, -1, -1, -1, -1, -1\n",
      " -1,  1,  0, -1, -1, -1, -1, -1, -1, -1, -1, -1, -1, -1, -1, -1, -1, -1, -1, -1, -1\n",
      " -1,  1,  1,  0, -1, -1, -1, -1, -1, -1, -1, -1, -1, -1, -1, -1, -1, -1, -1, -1, -1\n",
      "  0,  1,  1,  1,  0, -1, -1, -1, -1, -1, -1, -1, -1, -1, -1, -1, -1, -1, -1, -1, -1\n",
      "  1,  1,  1,  1,  1,  0,  0, -1, -1, -1, -1, -1, -1, -1, -1, -1, -1, -1, -1, -1, -1\n",
      "  1,  1,  1,  1,  1,  0,  0, -1, -1, -1, -1, -1, -1, -1, -1, -1, -1, -1, -1, -1, -1\n",
      "  1,  1,  1,  1,  1,  1,  1,  0, -1, -1, -1, -1, -1, -1, -1, -1, -1, -1, -1, -1, -1\n",
      "  1,  1,  1,  1,  1,  1,  1,  1,  0, -1, -1, -1,  0,  0, -1, -1, -1, -1, -1, -1, -1\n",
      "  1,  1,  1,  1,  1,  1,  1,  1,  1,  0, -1, -1,  1,  1, -1, -1, -1, -1, -1, -1, -1\n",
      "  1,  1,  1,  1,  1,  1,  1,  1,  1,  1,  0, -1,  1,  1, -1, -1, -1, -1, -1, -1, -1\n",
      "  1,  1,  1,  1,  1,  1,  1,  1,  1,  1,  1,  0,  1,  1, -1,  0, -1, -1, -1, -1, -1\n",
      "  1,  1,  1,  1,  1,  1,  1,  1,  0, -1, -1, -1,  0,  0, -1, -1, -1, -1, -1, -1, -1\n",
      "  1,  1,  1,  1,  1,  1,  1,  1,  0, -1, -1, -1,  0,  0, -1, -1, -1, -1, -1, -1, -1\n",
      "  1,  1,  1,  1,  1,  1,  1,  1,  1,  1,  1,  1,  1,  1,  0,  1, -1, -1, -1, -1, -1\n",
      "  1,  1,  1,  1,  1,  1,  1,  1,  1,  1,  1,  0,  1,  1, -1,  0, -1, -1, -1, -1, -1\n",
      "  1,  1,  1,  1,  1,  1,  1,  1,  1,  1,  1,  1,  1,  1,  1,  1,  0, -1, -1,  0, -1\n",
      "  1,  1,  1,  1,  1,  1,  1,  1,  1,  1,  1,  1,  1,  1,  1,  1,  1,  0,  0,  1,  1\n",
      "  1,  1,  1,  1,  1,  1,  1,  1,  1,  1,  1,  1,  1,  1,  1,  1,  1,  0,  0,  1,  1\n",
      "  1,  1,  1,  1,  1,  1,  1,  1,  1,  1,  1,  1,  1,  1,  1,  1,  0, -1, -1,  0, -1\n",
      "  1,  1,  1,  1,  1,  1,  1,  1,  1,  1,  1,  1,  1,  1,  1,  1,  1, -1, -1,  1,  0\n",
      "\n",
      "S = -174\n",
      "C = 0.0\n",
      "D = 8.0\n",
      "tau_k = -0.8448194738658157\n",
      "|tau_c| > |tau_k|: True\n",
      "|tau_c - (3/2)tau_k| = 0.36353334199299336\n",
      "u = -5.3572990437372265\n",
      "tau_k is significant\n"
     ]
    }
   ],
   "source": [
    "epsilon = 0.00001\n",
    "v = [[0 for _ in range(N)] for _ in range(N)]\n",
    "for i in range(N):\n",
    "    for j in range(N):\n",
    "        if abs(x_ranks[i] - x_ranks[j]) < epsilon:\n",
    "            continue\n",
    "        if abs(y_ranks[i] - y_ranks[j]) < epsilon:\n",
    "            continue\n",
    "        v[i][j] = 1 if y_ranks[i] < y_ranks[j] else -1\n",
    "S = sum(sum(v[i][j] for j in range(i + 1, N)) for i in range(0, N - 1))\n",
    "# A = sum((j ** 3) - j for j in x_rank_sizes) / 12\n",
    "# B = sum((k ** 3) - k for k in y_rank_sizes) / 12\n",
    "C = sum(j * (j - 1) for j in x_rank_sizes) / 2\n",
    "D = sum(k * (k - 1) for k in y_rank_sizes) / 2\n",
    "tau_k = S / ((((1/2) * N * (N - 1) - C) * ((1/2) * N * (N - 1) - D)) ** 0.5)\n",
    "u_for_tau_k = (3 * tau_k * ((N * (N - 1)) ** 0.5)) / ((2 * (2 * N + 5)) ** 0.5)\n",
    "print(\"v:\\n\" + '\\n'.join(\n",
    "    str(i).replace('[', ' ').strip(']').replace(' ', '  ').replace('  -', ' -') for i in v\n",
    ") + '\\n')\n",
    "print(\"S =\", S)\n",
    "print(\"C =\", C)\n",
    "print(\"D =\", D)\n",
    "print(\"tau_k =\", tau_k)\n",
    "print(\"|tau_c| > |tau_k|:\", abs(tau_c) > abs(tau_k))\n",
    "print(\"|tau_c - (3/2)tau_k| =\", tau_c - (3/2) * tau_k)\n",
    "print(\"u =\", u_for_tau_k)\n",
    "print(f\"tau_k is {'not ' if abs(u_for_tau_k) <= u_quantile else ''}significant\")"
   ]
  },
  {
   "cell_type": "code",
   "execution_count": 7,
   "id": "95c7df3f",
   "metadata": {},
   "outputs": [
    {
     "name": "stdout",
     "output_type": "stream",
     "text": [
      "a^ = 2.713110698824985\n",
      "b^ = -0.10426716141001856\n",
      "Se2 = 0.09374968032325713\n",
      "sigma(a) = 0.14547096507854632\n",
      "sigma(b) = 0.010768243947063607\n",
      "t_a = 18.65053069084992\n",
      "t_b = -9.682837974566056\n",
      "parameter 'a' is significant\n",
      "parameter 'b' is significant\n"
     ]
    }
   ],
   "source": [
    "# part 3 (10)\n",
    "\n",
    "b = r * y_standard_deviation / x_standard_deviation\n",
    "a = y_mean - b * x_mean\n",
    "epsilon_dispersion = sum((y - a - (b * x)) ** 2 for x, y in zip(data_x, data_y)) / (N - 2)\n",
    "sigma_a = ((epsilon_dispersion / N) * (1 + ((x_mean ** 2) / x_dispersion))) ** 0.5\n",
    "sigma_b = (epsilon_dispersion / (N * x_dispersion)) ** 0.5\n",
    "a_interval = (a - (t_quantile * sigma_a)), (a + (t_quantile * sigma_a))\n",
    "b_interval = (b - (t_quantile * sigma_b)), (a + (t_quantile * sigma_b))\n",
    "t_a = a / sigma_a\n",
    "t_b = b / sigma_b\n",
    "print(\"a^ =\", a)\n",
    "print(\"b^ =\", b)\n",
    "print(\"Se2 =\", epsilon_dispersion)\n",
    "print(\"sigma(a) =\", sigma_a)\n",
    "print(\"sigma(b) =\", sigma_b)\n",
    "print(\"t_a =\", t_a)\n",
    "print(\"t_b =\", t_b)\n",
    "print(f\"parameter 'a' is {'not ' if abs(t_a) <= t_quantile else ''}significant\")\n",
    "print(f\"parameter 'b' is {'not ' if abs(t_b) <= t_quantile else ''}significant\")\n"
   ]
  },
  {
   "cell_type": "code",
   "execution_count": 8,
   "id": "9dcae3d9",
   "metadata": {},
   "outputs": [
    {
     "data": {
      "text/plain": [
       "<matplotlib.lines._AxLine at 0x7fc2717f3640>"
      ]
     },
     "execution_count": 8,
     "metadata": {},
     "output_type": "execute_result"
    },
    {
     "data": {
      "image/png": "[encoded data removed]",
      "text/plain": [
       "<Figure size 432x288 with 1 Axes>"
      ]
     },
     "metadata": {
      "needs_background": "light"
     },
     "output_type": "display_data"
    }
   ],
   "source": [
    "def get_coordinates(x, a, b):\n",
    "    return a + b * x\n",
    "plt.scatter(data_x, data_y)\n",
    "plt.axline(\n",
    "    (0, get_coordinates(0, a, b)),\n",
    "    (20, get_coordinates(20, a, b)),\n",
    "    color='orange',\n",
    "    linewidth=3\n",
    ")"
   ]
  },
  {
   "cell_type": "code",
   "execution_count": null,
   "id": "ef9cbd3c",
   "metadata": {},
   "outputs": [],
   "source": []
  }
 ],
 "metadata": {
  "kernelspec": {
   "display_name": "Python 3 (ipykernel)",
   "language": "python",
   "name": "python3"
  },
  "language_info": {
   "codemirror_mode": {
    "name": "ipython",
    "version": 3
   },
   "file_extension": ".py",
   "mimetype": "text/x-python",
   "name": "python",
   "nbconvert_exporter": "python",
   "pygments_lexer": "ipython3",
   "version": "3.10.4"
  }
 },
 "nbformat": 4,
 "nbformat_minor": 5
}
