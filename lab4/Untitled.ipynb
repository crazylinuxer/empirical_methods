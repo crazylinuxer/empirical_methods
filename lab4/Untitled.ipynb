{
 "cells": [
  {
   "cell_type": "code",
   "execution_count": 2,
   "id": "c504dd22",
   "metadata": {},
   "outputs": [],
   "source": [
    "# lab4\n",
    "# part 1 (8)\n",
    "\n",
    "from matplotlib import pyplot as plt\n",
    "\n",
    "data_x = [\n",
    "    8, 13, 17, 6, 14, 21, 2, 16, 18, 15,\n",
    "    9, 10, 7, 22, 3, 5, 12, 19, 4, 20, 11\n",
    "]\n",
    "data_y = [\n",
    "    1.9, 1, 1, 2.2, 1.3, 0.8, 2.2, 0.9, 0.8, 1.3, 1.5,\n",
    "    1.3, 1.9, 0.7, 3.1, 2.5, 1.1, 0.6, 2.8, 0.6, 1.2\n",
    "]\n"
   ]
  },
  {
   "cell_type": "code",
   "execution_count": 3,
   "id": "ae5919cb",
   "metadata": {
    "scrolled": false
   },
   "outputs": [
    {
     "data": {
      "text/plain": [
       "<matplotlib.collections.PathCollection at 0x7f6627e882b0>"
      ]
     },
     "execution_count": 3,
     "metadata": {},
     "output_type": "execute_result"
    },
    {
     "data": {
      "image/png": "[encoded data removed]",
      "text/plain": [
       "<Figure size 432x288 with 1 Axes>"
      ]
     },
     "metadata": {
      "needs_background": "light"
     },
     "output_type": "display_data"
    }
   ],
   "source": [
    "plt.scatter(data_x, data_y)"
   ]
  },
  {
   "cell_type": "code",
   "execution_count": 8,
   "id": "5c7a14d5",
   "metadata": {},
   "outputs": [
    {
     "name": "stdout",
     "output_type": "stream",
     "text": [
      "N = 21\n",
      "x mean = 12.0\n",
      "y mean = 1.461904761904762\n",
      "xy mean = 13.52857142857143\n",
      "x std = 6.2048368229954285\n",
      "y std = 0.7412666122767101\n",
      "r^ = -0.8727773675911694\n",
      "t statistic = -7.793903269096083\n",
      "t quantile = 2.09\n",
      "r^ is significant\n"
     ]
    }
   ],
   "source": [
    "# according to scatter plot, correlation is non-linear\n",
    "assert len(data_y) == len(data_x)\n",
    "N = len(data_x)\n",
    "x_mean = sum(data_x)/N\n",
    "y_mean = sum(data_y)/N\n",
    "xy_mean = sum(x * y for x, y in zip(data_x, data_y))/N\n",
    "x_dispersion = sum((i - x_mean) ** 2 for i in data_x) / (N - 1)\n",
    "x_standard_deviation = x_dispersion ** 0.5\n",
    "y_dispersion = sum((i - y_mean) ** 2 for i in data_y) / (N - 1)\n",
    "y_standard_deviation = y_dispersion ** 0.5\n",
    "r = (xy_mean - (x_mean * y_mean)) / (x_standard_deviation * y_standard_deviation)\n",
    "t = (r * ((N - 2) ** 0.5)) / ((1 - (r ** 2)) ** 0.5)\n",
    "t_quantile = 2.09\n",
    "print(\"N =\", N)\n",
    "print(\"x mean =\", x_mean)\n",
    "print(\"y mean =\", y_mean)\n",
    "print(\"xy mean =\", xy_mean)\n",
    "print(\"x std =\", x_standard_deviation)\n",
    "print(\"y std =\", y_standard_deviation)\n",
    "print(\"r^ =\", r)\n",
    "print(\"t statistic =\", t)\n",
    "print(\"t quantile =\", t_quantile)\n",
    "print(f\"r^ is {'not ' if abs(t) <= t_quantile else ''}significant\")\n"
   ]
  },
  {
   "cell_type": "code",
   "execution_count": 10,
   "id": "bd1b3870",
   "metadata": {},
   "outputs": [
    {
     "name": "stdout",
     "output_type": "stream",
     "text": [
      "r^ interval = (-0.9821504049158638, -0.7733065990586798)\n"
     ]
    }
   ],
   "source": [
    "u_quantile = 1.96\n",
    "r_interval_middle = r + (r * (1 - (r ** 2)) / (2 * N))\n",
    "r_interval_scatter = (u_quantile * ((1 - (r ** 2)) / ((N - 1) ** 0.5)))\n",
    "r_interval = (r_interval_middle - r_interval_scatter, r_interval_middle + r_interval_scatter)\n",
    "print(\"r^ interval =\", r_interval)"
   ]
  },
  {
   "cell_type": "code",
   "execution_count": 11,
   "id": "17f281f3",
   "metadata": {},
   "outputs": [
    {
     "name": "stdout",
     "output_type": "stream",
     "text": [
      "x ranks: [7.0, 12.0, 16.0, 5.0, 13.0, 20.0, 1.0, 15.0, 17.0, 14.0, 8.0, 9.0, 6.0, 21.0, 2.0, 4.0, 11.0, 18.0, 3.0, 19.0, 10.0]\n",
      "y ranks: [15.5, 7.5, 7.5, 17.5, 12.0, 4.5, 17.5, 6.0, 4.5, 12.0, 14.0, 12.0, 15.5, 3.0, 21.0, 19.0, 9.0, 1.5, 20.0, 1.5, 10.0]\n",
      "tau_c = -0.9036958688057302\n"
     ]
    }
   ],
   "source": [
    "# part 2 (9)\n",
    "\n",
    "def get_ranks(items: list):\n",
    "    sorted_items = sorted(items)\n",
    "    ranks = []\n",
    "    current_indexes_sum = 0\n",
    "    current_rank_size = 0\n",
    "    current_value = None\n",
    "    for i in range(len(sorted_items)):\n",
    "        if not current_value:\n",
    "            current_value = sorted_items[i]\n",
    "        if current_value == sorted_items[i]:\n",
    "            current_rank_size += 1\n",
    "            current_indexes_sum += (i + 1)\n",
    "        else:\n",
    "            ranks.extend(\n",
    "                current_indexes_sum / current_rank_size for _ in range(current_rank_size)\n",
    "            )\n",
    "            current_value = sorted_items[i]\n",
    "            current_indexes_sum = i + 1\n",
    "            current_rank_size = 1\n",
    "        if i == len(sorted_items) - 1:\n",
    "            ranks.extend(\n",
    "                current_indexes_sum / current_rank_size for _ in range(current_rank_size)\n",
    "            )\n",
    "    rank_map = {i: j for i, j in zip(sorted_items, ranks)}\n",
    "    return [rank_map[i] for i in items]\n",
    "\n",
    "x_ranks = get_ranks(data_x)\n",
    "y_ranks = get_ranks(data_y)\n",
    "\n",
    "x_ranks_mean = sum(x_ranks)/N\n",
    "y_ranks_mean = sum(y_ranks)/N\n",
    "xy_ranks_mean = sum(x * y for x, y in zip(x_ranks, y_ranks))/N\n",
    "x_ranks_dispersion = sum((i - x_ranks_mean) ** 2 for i in x_ranks) / (N - 1)\n",
    "x_ranks_standard_deviation = x_ranks_dispersion ** 0.5\n",
    "y_ranks_dispersion = sum((i - y_ranks_mean) ** 2 for i in y_ranks) / (N - 1)\n",
    "y_ranks_standard_deviation = y_ranks_dispersion ** 0.5\n",
    "r_for_ranks = (xy_ranks_mean - (x_ranks_mean * y_ranks_mean)) /\\\n",
    "    (x_ranks_standard_deviation * y_ranks_standard_deviation)\n",
    "print(\"x ranks:\", x_ranks)\n",
    "print(\"y ranks:\", y_ranks)\n",
    "print(\"tau_c =\", r_for_ranks)\n"
   ]
  },
  {
   "cell_type": "code",
   "execution_count": null,
   "id": "3c0aa2d0",
   "metadata": {},
   "outputs": [],
   "source": []
  }
 ],
 "metadata": {
  "kernelspec": {
   "display_name": "Python 3 (ipykernel)",
   "language": "python",
   "name": "python3"
  },
  "language_info": {
   "codemirror_mode": {
    "name": "ipython",
    "version": 3
   },
   "file_extension": ".py",
   "mimetype": "text/x-python",
   "name": "python",
   "nbconvert_exporter": "python",
   "pygments_lexer": "ipython3",
   "version": "3.10.4"
  }
 },
 "nbformat": 4,
 "nbformat_minor": 5
}
