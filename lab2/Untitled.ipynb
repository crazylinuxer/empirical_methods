{
 "cells": [
  {
   "cell_type": "code",
   "execution_count": 1,
   "id": "89712f3e",
   "metadata": {},
   "outputs": [
    {
     "name": "stdout",
     "output_type": "stream",
     "text": [
      "val\tfreq\trel_freq\n",
      "3\t1\t0.02\n",
      "6\t2\t0.03\n",
      "8\t1\t0.02\n",
      "11\t1\t0.02\n",
      "12\t1\t0.02\n",
      "14\t2\t0.03\n",
      "15\t1\t0.02\n",
      "16\t4\t0.07\n",
      "17\t1\t0.02\n",
      "20\t1\t0.02\n",
      "22\t1\t0.02\n",
      "23\t2\t0.03\n",
      "27\t1\t0.02\n",
      "28\t1\t0.02\n",
      "29\t2\t0.03\n",
      "32\t1\t0.02\n",
      "34\t1\t0.02\n",
      "36\t1\t0.02\n",
      "39\t1\t0.02\n",
      "44\t1\t0.02\n",
      "45\t1\t0.02\n",
      "48\t1\t0.02\n",
      "49\t1\t0.02\n",
      "50\t1\t0.02\n",
      "54\t1\t0.02\n",
      "56\t1\t0.02\n",
      "57\t2\t0.03\n",
      "60\t1\t0.02\n",
      "63\t1\t0.02\n",
      "64\t1\t0.02\n",
      "74\t2\t0.03\n",
      "75\t1\t0.02\n",
      "77\t1\t0.02\n",
      "84\t1\t0.02\n",
      "85\t1\t0.02\n",
      "89\t1\t0.02\n",
      "91\t1\t0.02\n",
      "94\t1\t0.02\n",
      "95\t1\t0.02\n",
      "106\t1\t0.02\n",
      "116\t1\t0.02\n",
      "120\t1\t0.02\n",
      "121\t1\t0.02\n",
      "129\t1\t0.02\n",
      "137\t1\t0.02\n",
      "156\t1\t0.02\n",
      "164\t1\t0.02\n",
      "204\t1\t0.02\n",
      "206\t1\t0.02\n",
      "250\t1\t0.02\n",
      "267\t1\t0.02\n"
     ]
    }
   ],
   "source": [
    "import math\n",
    "\n",
    "import numpy as np\n",
    "from matplotlib import pyplot as plt\n",
    "from scipy.interpolate import make_interp_spline\n",
    "\n",
    "data = [16, 94, 63, 267, 11, 250, 57, 39, 84, 16, 15, 77, 164, 106, 36,\n",
    "        12, 116, 91, 48, 56, 74, 6, 8, 14, 32, 20, 23, 121, 34, 6, 156,\n",
    "        27, 29, 3, 64, 45, 50, 22, 204, 60, 44, 28, 29, 206, 95, 74, 89,\n",
    "        54, 85, 23, 129, 16, 120, 75, 17, 16, 57, 49, 14, 137]\n",
    "variation_range = {}\n",
    "for i in data:\n",
    "    if i in variation_range:\n",
    "        variation_range[i] += 1\n",
    "    else:\n",
    "        variation_range[i] = 1\n",
    "sorted_variation_range = sorted(variation_range)\n",
    "print(\"val\\tfreq\\trel_freq\")\n",
    "for i in sorted_variation_range:\n",
    "    print(f'{i}\\t{variation_range[i]}\\t{round(variation_range[i] / len(data), 2)}')"
   ]
  },
  {
   "cell_type": "code",
   "execution_count": 2,
   "id": "185331a6",
   "metadata": {},
   "outputs": [
    {
     "name": "stdout",
     "output_type": "stream",
     "text": [
      "border\t\tfreq\trel_freq\n",
      "[3.0; 40.7)\t26\t0.43\n",
      "[40.7; 78.4)\t16\t0.27\n",
      "[78.4; 116.1)\t8\t0.13\n",
      "[116.1; 153.9)\t4\t0.07\n",
      "[153.9; 191.6)\t2\t0.03\n",
      "[191.6; 229.3)\t2\t0.03\n",
      "[229.3; 267.0]\t2\t0.03\n"
     ]
    }
   ],
   "source": [
    "M = round(1 + math.log2(len(data)))\n",
    "min_val = min(data)\n",
    "max_val = max(data)\n",
    "def get_classes(count: int):\n",
    "    h = (max_val - min_val) / count\n",
    "    class_borders = {(min_val + h * i, min_val + h * (i + 1)): None for i in range(count)}\n",
    "    for border in class_borders:\n",
    "        class_borders[border] = len([\n",
    "            *(i for i in data if i < border[1] and i >= border[0]),\n",
    "            *([border[1], ] if border[1] == max_val else range(0))\n",
    "        ])\n",
    "    print(\"border\\t\\tfreq\\trel_freq\")\n",
    "    plot_values = []\n",
    "    sorted_borders = sorted(class_borders, key=lambda x: x[0])\n",
    "    for border in sorted_borders:\n",
    "        plot_values.append((class_borders[border], class_borders[border] / len(data)))\n",
    "        print(\n",
    "            f\"[{round(border[0], 1)}; {round(border[1], 1)}\"\n",
    "            f\"{')' if len(plot_values) < len(sorted_borders) else ']'}\\t\"\n",
    "            f\"{plot_values[-1][0]}\\t{round(plot_values[-1][1], 2)}\"\n",
    "        )\n",
    "    return sorted_borders, plot_values, h\n",
    "sorted_borders, plot_values, class_width = get_classes(M)"
   ]
  },
  {
   "cell_type": "code",
   "execution_count": 3,
   "id": "da328c00",
   "metadata": {},
   "outputs": [
    {
     "data": {
      "text/plain": [
       "[<matplotlib.lines.Line2D at 0x7ff62c229250>]"
      ]
     },
     "execution_count": 3,
     "metadata": {},
     "output_type": "execute_result"
    },
    {
     "data": {
      "image/png": "[encoded data removed]",
      "text/plain": [
       "<Figure size 432x288 with 1 Axes>"
      ]
     },
     "metadata": {
      "needs_background": "light"
     },
     "output_type": "display_data"
    }
   ],
   "source": [
    "plt.bar(\n",
    "    [(i[0] + i[1]) / 2 for i in sorted_borders],\n",
    "    [i[1] for i in plot_values],\n",
    "    width=class_width-1\n",
    ")\n",
    "def avg(data: list):\n",
    "    return sum(data) / len(data)\n",
    "\n",
    "mean = avg(data)\n",
    "dispersion = sum((i - mean) ** 2 for i in variation_range) / (len(variation_range) - 1)\n",
    "standard_deviation = dispersion ** 0.5\n",
    "displaced_dispersion = sum((i - mean) ** 2 for i in data) / len(data)\n",
    "displaced_standard_deviation = displaced_dispersion ** 0.5\n",
    "\n",
    "def epanechnikov_kernel_function(u: float):\n",
    "    return (3 / (4 * (5 ** 0.5))) * (1 - ((u ** 2) / 5)) * int((u ** 2) ** 0.5 <= (5 ** 0.5))\n",
    "def gauss_kernel_function(u: float):\n",
    "    return (1 / ((2 * math.pi) ** 0.5)) * math.exp(-(u ** 2) / 2)\n",
    "def KDE(x, K, b):\n",
    "    return sum(K((x - i) / b) for i in data) / (len(data) * b)\n",
    "\n",
    "b_window = standard_deviation * (len(data) ** (-1/5))  # Scott\n",
    "# b_window = standard_deviation * (((3 * len(data)) / 4) ** (-1/5))  # Silverman\n",
    "x_grid = np.linspace(min_val, max_val, 150)\n",
    "y_grid = [KDE(i, gauss_kernel_function, b_window) * class_width for i in x_grid]\n",
    "plt.plot(x_grid, y_grid, color=\"orange\", linewidth=3)"
   ]
  },
  {
   "cell_type": "code",
   "execution_count": 4,
   "id": "2a278fbd",
   "metadata": {},
   "outputs": [
    {
     "name": "stdout",
     "output_type": "stream",
     "text": [
      "border\t\tfreq\trel_freq\n",
      "[3.0; 21.9)\t15\t0.25\n",
      "[21.9; 40.7)\t11\t0.18\n",
      "[40.7; 59.6)\t9\t0.15\n",
      "[59.6; 78.4)\t7\t0.12\n",
      "[78.4; 97.3)\t6\t0.1\n",
      "[97.3; 116.1)\t2\t0.03\n",
      "[116.1; 135.0)\t3\t0.05\n",
      "[135.0; 153.9)\t1\t0.02\n",
      "[153.9; 172.7)\t2\t0.03\n",
      "[172.7; 191.6)\t0\t0.0\n",
      "[191.6; 210.4)\t2\t0.03\n",
      "[210.4; 229.3)\t0\t0.0\n",
      "[229.3; 248.1)\t0\t0.0\n",
      "[248.1; 267.0]\t2\t0.03\n"
     ]
    },
    {
     "data": {
      "text/plain": [
       "<BarContainer object of 14 artists>"
      ]
     },
     "execution_count": 4,
     "metadata": {},
     "output_type": "execute_result"
    },
    {
     "data": {
      "image/png": "[encoded data removed]",
      "text/plain": [
       "<Figure size 432x288 with 1 Axes>"
      ]
     },
     "metadata": {
      "needs_background": "light"
     },
     "output_type": "display_data"
    }
   ],
   "source": [
    "sorted_borders, plot_values, class_width = get_classes(M * 2)\n",
    "plt.bar(\n",
    "    [(i[0] + i[1]) / 2 for i in sorted_borders],\n",
    "    [i[1] for i in plot_values],\n",
    "    width=class_width-1\n",
    ")"
   ]
  },
  {
   "cell_type": "code",
   "execution_count": 5,
   "id": "a449852c",
   "metadata": {},
   "outputs": [
    {
     "data": {
      "text/plain": [
       "[<matplotlib.lines.Line2D at 0x7ff62a09f970>]"
      ]
     },
     "execution_count": 5,
     "metadata": {},
     "output_type": "execute_result"
    },
    {
     "data": {
      "image/png": "[encoded data removed]",
      "text/plain": [
       "<Figure size 432x288 with 1 Axes>"
      ]
     },
     "metadata": {
      "needs_background": "light"
     },
     "output_type": "display_data"
    }
   ],
   "source": [
    "N = len(data)\n",
    "sorted_data = sorted(data)\n",
    "def get_median(sorted_data):\n",
    "    return avg(sorted_data[\n",
    "            (len(sorted_data) // 2) - (not bool(len(sorted_data) % 2)) : \\\n",
    "            (len(sorted_data) // 2) + 1\n",
    "    ])\n",
    "median = get_median(sorted_data)\n",
    "quartile_025 = get_median([i for i in sorted_data if i <= median])\n",
    "quartile_075 = get_median([i for i in sorted_data if i >= median])\n",
    "quantile_0875 = get_median([i for i in sorted_data if i >= quartile_075])\n",
    "quantile_09375 = get_median([i for i in sorted_data if i >= quantile_0875])\n",
    "quantile_09687 = get_median([i for i in sorted_data if i >= quantile_09375])\n",
    "plt.scatter(range(N), data)\n",
    "plt.plot(range(N), [quartile_025 for _ in range(N)], color='orange')\n",
    "plt.plot(range(N), [quartile_075 for _ in range(N)], color='orange')\n",
    "plt.plot(range(N), [quantile_09687 for _ in range(N)], color='red')"
   ]
  },
  {
   "cell_type": "code",
   "execution_count": 6,
   "id": "1db21ed6",
   "metadata": {},
   "outputs": [
    {
     "name": "stdout",
     "output_type": "stream",
     "text": [
      "Count = 60\n",
      "Mean = 66.21666666666667\n",
      "Median = 49.5\n",
      "Dispersion = 3930.522550000001\n",
      "Standard_deviation = 62.6938796853409\n",
      "Displaced dispersion = 3564.0363888888887\n",
      "Displaced standard deviation = 59.699550994030844\n",
      "Coefficient of variation = 0.9467990891317528\n",
      "Displaced coefficient of skewness = 1.5287605638219866\n",
      "Coefficient of skewness = 1.5682421001525866\n",
      "Displaced coefficient of kurtosis = 2.09947667036515\n",
      "Coefficient of kurtosis = 2.39262448174355\n",
      "Displaced coefficient of antikurtosis = 0.44283016356349697\n"
     ]
    }
   ],
   "source": [
    "variation = standard_deviation / mean\n",
    "displaced_skewness = sum(((i - mean) ** 3) for i in data) /\\\n",
    "    (len(data) * (displaced_standard_deviation ** 3))\n",
    "skewness = (((N * (N - 1)) ** 0.5) / (N - 2)) * displaced_skewness\n",
    "displaced_kurtosis = sum(((i - mean) ** 4) for i in data) /\\\n",
    "    (len(data) * (displaced_standard_deviation ** 4)) - 3\n",
    "displaced_antikurtosis = (displaced_kurtosis + 3) ** -0.5\n",
    "kurtosis = (((N ** 2) - 1) / ((N - 2) * (N - 3))) * (displaced_kurtosis + 6 / (N + 1))\n",
    "\n",
    "print(\"Count =\", N)\n",
    "print(\"Mean =\", mean)\n",
    "print(\"Median =\", median)\n",
    "print(\"Dispersion =\", dispersion)\n",
    "print(\"Standard_deviation =\", standard_deviation)\n",
    "print(\"Displaced dispersion =\", displaced_dispersion)\n",
    "print(\"Displaced standard deviation =\", displaced_standard_deviation)\n",
    "print(\"Coefficient of variation =\", variation)\n",
    "print(\"Displaced coefficient of skewness =\", displaced_skewness)\n",
    "print(\"Coefficient of skewness =\", skewness)\n",
    "print(\"Displaced coefficient of kurtosis =\", displaced_kurtosis)\n",
    "print(\"Coefficient of kurtosis =\", kurtosis)\n",
    "print(\"Displaced coefficient of antikurtosis =\", displaced_antikurtosis)\n"
   ]
  },
  {
   "cell_type": "code",
   "execution_count": 7,
   "id": "210b056a",
   "metadata": {},
   "outputs": [
    {
     "name": "stdout",
     "output_type": "stream",
     "text": [
      "Standard deviation of mean = 8.09374506434856\n",
      "Standard deviation of standard deviation = 5.723142020196017\n",
      "Standard deviation of variation = 0.1444413572134301\n",
      "Standard deviation of displaced skewness = 0.30092233963047793\n",
      "Standard deviation of skewness = 0.3086939139148819\n",
      "Standard deviation of displaced kurtosis = 0.5589537608654785\n",
      "Standard deviation of kurtosis = 0.6084920100891885\n",
      "\n",
      "Mean confidence interval = [50.02917653796955; 82.40415679536379]\n",
      "Standard deviation confidence interval = [51.24759564494887; 74.14016372573293]\n",
      "Variation confidence interval = [0.6579163747048926; 1.235681803558613]\n",
      "Displaced skewness confidence interval = [0.9269158845610307; 2.1306052430829423]\n",
      "Skewness confidence interval = [0.9508542723228228; 2.18562992798235]\n",
      "Displaced kurtosis confidence interval = [0.9815691486341931; 3.217384192096107]\n",
      "Kurtosis confidence interval = [1.175640461565173; 3.609608501921927]\n"
     ]
    }
   ],
   "source": [
    "t_distribution_quantile = 2\n",
    "\n",
    "def get_confidence_interval(characteristic, std_deviation) -> tuple:\n",
    "    return characteristic - t_distribution_quantile * std_deviation,\\\n",
    "        characteristic + t_distribution_quantile * std_deviation\n",
    "\n",
    "std_dev_of_mean = standard_deviation / (N ** 0.5)\n",
    "std_dev_of_std_dev = standard_deviation / ((2 * len(data)) ** 0.5)\n",
    "std_dev_of_variation = variation * (((1 + 2 * (variation ** 2)) / (2 * N)) ** 0.5)\n",
    "std_dev_of_displaced_skewness = ((6 * (N - 2)) / ((N + 1) * (N + 3))) ** 0.5\n",
    "std_dev_of_skewness = ((6 * N * (N - 1)) / ((N - 2) * (N + 1) * (N + 3))) ** 0.5\n",
    "std_dev_of_displaced_kurtosis = (((24 * N) * (N - 2) * (N - 3)) /\\\n",
    "                                 (((N + 1) ** 2) * (N + 3) * (N + 5))) ** 0.5\n",
    "std_dev_of_kurtosis = (((24 * N) * ((N - 1) ** 2)) /\\\n",
    "                       ((N - 3) * (N - 2) * (N + 3) * (N + 5))) ** 0.5\n",
    "\n",
    "mean_interval = get_confidence_interval(mean, std_dev_of_mean)\n",
    "std_dev_interval = get_confidence_interval(\n",
    "    standard_deviation, std_dev_of_std_dev\n",
    ")\n",
    "variation_interval = get_confidence_interval(variation, std_dev_of_variation)\n",
    "displaced_skewness_interval = get_confidence_interval(\n",
    "    displaced_skewness, std_dev_of_displaced_skewness\n",
    ")\n",
    "skewness_interval = get_confidence_interval(skewness, std_dev_of_skewness)\n",
    "displaced_kurtosis_interval = get_confidence_interval(\n",
    "    displaced_kurtosis, std_dev_of_displaced_kurtosis\n",
    ")\n",
    "kurtosis_interval = get_confidence_interval(kurtosis, std_dev_of_kurtosis)\n",
    "\n",
    "print(\"Standard deviation of mean =\", std_dev_of_mean)\n",
    "print(\"Standard deviation of standard deviation =\", std_dev_of_std_dev)\n",
    "print(\"Standard deviation of variation =\", std_dev_of_variation)\n",
    "print(\"Standard deviation of displaced skewness =\", std_dev_of_displaced_skewness)\n",
    "print(\"Standard deviation of skewness =\", std_dev_of_skewness)\n",
    "print(\"Standard deviation of displaced kurtosis =\", std_dev_of_displaced_kurtosis)\n",
    "print(\"Standard deviation of kurtosis =\", std_dev_of_kurtosis)\n",
    "print()\n",
    "print(f\"Mean confidence interval = [{mean_interval[0]}; {mean_interval[1]}]\")\n",
    "print(f\"Standard deviation confidence interval = [{std_dev_interval[0]}; {std_dev_interval[1]}]\")\n",
    "print(f\"Variation confidence interval = [{variation_interval[0]}; {variation_interval[1]}]\")\n",
    "print(f\"Displaced skewness confidence interval = [{displaced_skewness_interval[0]};\"\n",
    "      f\" {displaced_skewness_interval[1]}]\")\n",
    "print(f\"Skewness confidence interval = [{skewness_interval[0]}; {skewness_interval[1]}]\")\n",
    "print(f\"Displaced kurtosis confidence interval = [{displaced_kurtosis_interval[0]};\"\n",
    "      f\" {displaced_kurtosis_interval[1]}]\")\n",
    "print(f\"Kurtosis confidence interval = [{kurtosis_interval[0]}; {kurtosis_interval[1]}]\")"
   ]
  },
  {
   "cell_type": "code",
   "execution_count": 8,
   "id": "4723b5b3",
   "metadata": {},
   "outputs": [
    {
     "name": "stdout",
     "output_type": "stream",
     "text": [
      "[0.016666666667, 0.05, 0.066666666667, 0.083333333333, 0.1, 0.133333333333, 0.15, 0.216666666667, 0.233333333333, 0.25, 0.266666666667, 0.3, 0.316666666667, 0.333333333333, 0.366666666667, 0.383333333333, 0.4, 0.416666666667, 0.433333333333, 0.45, 0.466666666667, 0.483333333333, 0.5, 0.516666666667, 0.533333333333, 0.55, 0.583333333333, 0.6, 0.616666666667, 0.633333333333, 0.666666666667, 0.683333333333, 0.7, 0.716666666667, 0.733333333333, 0.75, 0.766666666667, 0.783333333333, 0.8, 0.816666666667, 0.833333333333, 0.85, 0.866666666667, 0.883333333333, 0.9, 0.916666666667, 0.933333333333, 0.95, 0.966666666667, 0.983333333333]\n"
     ]
    }
   ],
   "source": [
    "def empirical_distribution_function(index: int, var_range: dict, sorted_var_range: list):\n",
    "    return round(sum(var_range[i] / len(data) for i in sorted_var_range[:index + 1]), 12)\n",
    "\n",
    "distribution_function_values = [\n",
    "    empirical_distribution_function(i, variation_range, sorted_variation_range) \\\n",
    "    for i in range(len(variation_range))\n",
    "]\n",
    "del distribution_function_values[-1]\n",
    "print(distribution_function_values)"
   ]
  },
  {
   "cell_type": "code",
   "execution_count": 9,
   "id": "14c86c14",
   "metadata": {},
   "outputs": [
    {
     "name": "stdout",
     "output_type": "stream",
     "text": [
      "[-2.128485364734459, -1.6452088067116766, -1.5013826098846976, -1.3832300654773464, -1.281726268647897, -1.1108256862298187, -1.0364291126867813, -0.7832847956961102, -0.7276522384271132, -0.6741869654261609, -0.6225854045922437, -0.5239997878980465, -0.4766180042942938, -0.4302897369601826, -0.34024982739009535, -0.2963023574262853, -0.25293136685424344, -0.21004384547588661, -0.16755346149063, -0.1253791842194576, -0.0834440955622191, -0.04167434153414207, 1.815371634128482e-06, 0.04167434153414207, 0.0834440955622191, 0.1253791842194576, 0.2100438454758864, 0.25293136685424344, 0.2963023574262853, 0.34024982739009535, 0.4302897369601828, 0.4766180042942938, 0.5239997878980465, 0.5725943978337698, 0.6225854045922437, 0.6741869654261609, 0.7276522384271132, 0.7832847956961102, 0.8414544471516716, 0.9026197296543831, 0.9673607925084813, 1.0364291126867808, 1.1108256862298187, 1.1919300520587144, 1.281726268647897, 1.3832300654773464, 1.501382609884697, 1.645208806711676, 1.8343221652812363, 2.128485364734459]\n"
     ]
    }
   ],
   "source": [
    "def get_snd_quantile_value(p) -> float:\n",
    "    c0 = 2.515517\n",
    "    c1 = 0.802853\n",
    "    c2 = 0.010328\n",
    "    d1 = 1.432788\n",
    "    d2 = 0.1892659\n",
    "    d3 = 0.001308\n",
    "    def fi(a) -> float:\n",
    "        t = (-2 * math.log(a)) ** 0.5\n",
    "        return t - (\n",
    "            (c0 + (c1 * t) + (c2 * (t ** 2))) / \\\n",
    "            (1 + (d1 * t) + (d2 * (t ** 2)) + (d3 * (t ** 3)))\n",
    "        )\n",
    "    return -fi(p) if p <= 0.5 else fi(1 - p)\n",
    "\n",
    "quantiles = [get_snd_quantile_value(p) for p in distribution_function_values]\n",
    "print(quantiles)"
   ]
  },
  {
   "cell_type": "code",
   "execution_count": 10,
   "id": "99bcd77d",
   "metadata": {},
   "outputs": [
    {
     "data": {
      "text/plain": [
       "<matplotlib.collections.PathCollection at 0x7ff629fd65e0>"
      ]
     },
     "execution_count": 10,
     "metadata": {},
     "output_type": "execute_result"
    },
    {
     "data": {
      "image/png": "[encoded data removed]",
      "text/plain": [
       "<Figure size 432x288 with 1 Axes>"
      ]
     },
     "metadata": {
      "needs_background": "light"
     },
     "output_type": "display_data"
    },
    {
     "data": {
      "image/png": "[encoded data removed]",
      "text/plain": [
       "<Figure size 432x288 with 1 Axes>"
      ]
     },
     "metadata": {
      "needs_background": "light"
     },
     "output_type": "display_data"
    }
   ],
   "source": [
    "t_axis = [math.log(i) for i in sorted_variation_range[:-1]]\n",
    "z_axis = [math.log(math.log(1 / (1 - i))) for i in distribution_function_values]\n",
    "plt.scatter(sorted_variation_range[:-1], quantiles)\n",
    "plt.figure()\n",
    "plt.scatter(t_axis, z_axis)"
   ]
  },
  {
   "cell_type": "code",
   "execution_count": 11,
   "id": "e441e6dd",
   "metadata": {},
   "outputs": [
    {
     "name": "stdout",
     "output_type": "stream",
     "text": [
      "Parameter estimations:\n",
      "Beta = 1.1868318977823706\n",
      "Alpha = 146.31769569418563\n"
     ]
    }
   ],
   "source": [
    "#LAB 2\n",
    "\n",
    "# z = ln(-ln(1 - F(x)))\n",
    "# t = ln(x)\n",
    "\n",
    "# { A + Beta * t_ = z_\n",
    "# { A * t_ + Beta * t2_ = (zt)_\n",
    "\n",
    "# { A = z_ - Beta * t_\n",
    "# { (z_ - Beta * t_) * t_ + Beta * t2_ = (zt)_\n",
    "\n",
    "# z_ * t_ - Beta * t_^2 + Beta * t2_ = (zt)_\n",
    "# z_ * t_ - Beta * (t_^2 - t2_) = (zt)_\n",
    "# -Beta * (t_^2 - t2_) = (zt)_ - z_ * t_\n",
    "# Beta = (z_ * t_ - (zt)_) / (t_^2 - t2_)\n",
    "\n",
    "# A = z - ((z_ * t_ - (zt)_) / (t_^2 - t2_)) * t_\n",
    "# ln(Alpha) = -A\n",
    "# Alpha = e ^ -A\n",
    "\n",
    "z_ = sum(z_axis) / len(z_axis)\n",
    "t_ = sum(t_axis) / len(t_axis)\n",
    "t2_ = sum(t ** 2 for t in t_axis) / len(t_axis)\n",
    "assert len(t_axis) == len(z_axis)\n",
    "zt_ = sum(z * t for z, t in zip(z_axis, t_axis)) / len(t_axis)\n",
    "beta_param = (z_ * t_ - zt_) / (t_ ** 2 - t2_)\n",
    "a = z_ - beta_param * t_\n",
    "alpha_param = math.e ** -a\n",
    "\n",
    "print(\"Parameter estimations:\")\n",
    "print(\"Beta =\", beta_param)\n",
    "print(\"Alpha =\", alpha_param)"
   ]
  },
  {
   "cell_type": "code",
   "execution_count": 12,
   "id": "85c47dcf",
   "metadata": {},
   "outputs": [
    {
     "data": {
      "text/plain": [
       "[<matplotlib.lines.Line2D at 0x7ff629f62070>]"
      ]
     },
     "execution_count": 12,
     "metadata": {},
     "output_type": "execute_result"
    },
    {
     "data": {
      "image/png": "[encoded data removed]",
      "text/plain": [
       "<Figure size 432x288 with 1 Axes>"
      ]
     },
     "metadata": {
      "needs_background": "light"
     },
     "output_type": "display_data"
    }
   ],
   "source": [
    "def weib_func(x, alpha, beta):\n",
    "    assert x >= 0\n",
    "    return 1 - math.exp(-((x ** beta) / alpha))\n",
    "\n",
    "t_grid = sorted_variation_range[:-1]\n",
    "z_grid = distribution_function_values\n",
    "weibull_values = [weib_func(x, alpha_param, beta_param) for x in x_grid]\n",
    "plt.scatter(t_grid, z_grid)\n",
    "plt.plot(x_grid, weibull_values, color=\"green\", linewidth=2)"
   ]
  },
  {
   "cell_type": "code",
   "execution_count": 13,
   "id": "c8198d55",
   "metadata": {},
   "outputs": [
    {
     "name": "stdout",
     "output_type": "stream",
     "text": [
      "border\t\tfreq\trel_freq\n",
      "[3.0; 40.7)\t26\t0.43\n",
      "[40.7; 78.4)\t16\t0.27\n",
      "[78.4; 116.1)\t8\t0.13\n",
      "[116.1; 153.9)\t4\t0.07\n",
      "[153.9; 191.6)\t2\t0.03\n",
      "[191.6; 229.3)\t2\t0.03\n",
      "[229.3; 267.0]\t2\t0.03\n"
     ]
    },
    {
     "data": {
      "text/plain": [
       "[<matplotlib.lines.Line2D at 0x7ff629ed47f0>]"
      ]
     },
     "execution_count": 13,
     "metadata": {},
     "output_type": "execute_result"
    },
    {
     "data": {
      "image/png": "[encoded data removed]",
      "text/plain": [
       "<Figure size 432x288 with 1 Axes>"
      ]
     },
     "metadata": {
      "needs_background": "light"
     },
     "output_type": "display_data"
    }
   ],
   "source": [
    "def weib_density_func(x, alpha, beta):\n",
    "    assert x >= 0\n",
    "    assert alpha > 0 and beta > 0\n",
    "    return (beta / alpha) * (x ** (beta - 1)) * math.exp(-((x ** beta) / alpha))\n",
    "    \n",
    "sorted_borders, plot_values, class_width = get_classes(M)\n",
    "plt.bar(\n",
    "    [(i[0] + i[1]) / 2 for i in sorted_borders],\n",
    "    [i[1] for i in plot_values],\n",
    "    width=class_width-1\n",
    ")\n",
    "x_grid = np.linspace(min_val, max_val, 150)\n",
    "y_grid = [KDE(i, gauss_kernel_function, b_window) * class_width for i in x_grid]\n",
    "plt.plot(x_grid, y_grid, color=\"orange\", linewidth=3)\n",
    "weibull_values = [weib_density_func(i, alpha_param, beta_param) * class_width for i in x_grid]\n",
    "plt.plot(x_grid, weibull_values, color=\"green\", linewidth=3)"
   ]
  },
  {
   "cell_type": "code",
   "execution_count": 14,
   "id": "91d8c74a",
   "metadata": {},
   "outputs": [
    {
     "name": "stdout",
     "output_type": "stream",
     "text": [
      "z = 0.4349385214170577\n",
      "K(z) = 0\n",
      "p = 1\n",
      "Probable distribution\n"
     ]
    }
   ],
   "source": [
    "dn_plus = max(\n",
    "    abs(\n",
    "        func_value - weib_func(item, alpha_param, beta_param)\n",
    "    ) for item, func_value in zip(\n",
    "        sorted_variation_range, distribution_function_values + [1]\n",
    "    )\n",
    ")\n",
    "dn_minus = max(\n",
    "    abs(\n",
    "        func_value - weib_func(item, alpha_param, beta_param)\n",
    "    ) for item, func_value in zip(\n",
    "        sorted_variation_range[1:], distribution_function_values\n",
    "    )\n",
    ")\n",
    "z = (N ** 0.5) * max(dn_plus, dn_minus)\n",
    "\n",
    "def kolmogorov_distribution_function(z):\n",
    "    return 1 + 2 * sum((-1 ** k) * math.exp(-2 * (k ** 2) * (z ** 2)) for k in range(1, 7))\n",
    "\n",
    "k = min(max(kolmogorov_distribution_function(z), 0), 1)\n",
    "p = 1 - k\n",
    "\n",
    "print(\"z =\", z)\n",
    "print(\"K(z) =\", k)\n",
    "print(\"p =\", p)\n",
    "print('Probable distribution' if p > 0.05 else 'Not a probable distribution')"
   ]
  },
  {
   "cell_type": "code",
   "execution_count": null,
   "id": "57309a78",
   "metadata": {},
   "outputs": [],
   "source": []
  }
 ],
 "metadata": {
  "kernelspec": {
   "display_name": "Python 3",
   "language": "python",
   "name": "python3"
  },
  "language_info": {
   "codemirror_mode": {
    "name": "ipython",
    "version": 3
   },
   "file_extension": ".py",
   "mimetype": "text/x-python",
   "name": "python",
   "nbconvert_exporter": "python",
   "pygments_lexer": "ipython3",
   "version": "3.9.9"
  }
 },
 "nbformat": 4,
 "nbformat_minor": 5
}
